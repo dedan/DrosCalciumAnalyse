{
 "metadata": {
  "name": "ts_to_images"
 }, 
 "nbformat": 2, 
 "worksheets": [
  {
   "cells": [
    {
     "cell_type": "code", 
     "collapsed": true, 
     "input": [
      "from NeuralImageProcessing.pipeline import TimeSeries", 
      "import numpy as np", 
      "from PIL import Image", 
      "import os"
     ], 
     "language": "python", 
     "outputs": [], 
     "prompt_number": 3
    }, 
    {
     "cell_type": "code", 
     "collapsed": false, 
     "input": [
      "inpath = '/Users/dedan/projects/fu/data/dros_calcium_new/LIN_111108a'", 
      "outpath = '/Users/dedan/projects/fu/results/alignment/images/LIN_111108a_janalign'", 
      "#inpath = '/Users/dedan/projects/fu/data/raw/LIN_111108a/LIN_111108a'", 
      "#outpath = '/Users/dedan/projects/fu/results/alignment/images/LIN_111108a_raw'", 
      "", 
      "if not os.path.exists(outpath):", 
      "    os.mkdir(outpath)"
     ], 
     "language": "python", 
     "outputs": [], 
     "prompt_number": 50
    }, 
    {
     "cell_type": "code", 
     "collapsed": false, 
     "input": [
      "t = TimeSeries()", 
      "t.load(inpath)", 
      "t.shape = tuple(t.shape)", 
      "all = t.shaped2D()"
     ], 
     "language": "python", 
     "outputs": [], 
     "prompt_number": 51
    }, 
    {
     "cell_type": "code", 
     "collapsed": false, 
     "input": [
      "for i in range(500):", 
      "    one = all[i,::-1,:]", 
      "    im = Image.fromarray(numpy.uint8(one*255))", 
      "    im.save(os.path.join(outpath, 'test%03d.pgm' % i))"
     ], 
     "language": "python", 
     "outputs": [], 
     "prompt_number": 54
    }, 
    {
     "cell_type": "markdown", 
     "source": [
      "### create aligned videos for the whole LIN dataset ", 
      "I do this because at the moment I have raw data only for one dataset (LIN_111108a)", 
      "and there also jan's alignment looks quite good."
     ]
    }, 
    {
     "cell_type": "code", 
     "collapsed": true, 
     "input": [
      "inpath = "
     ], 
     "language": "python", 
     "outputs": [], 
     "prompt_number": "&nbsp;"
    }
   ]
  }
 ]
}